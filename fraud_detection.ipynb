{
  "nbformat": 4,
  "nbformat_minor": 0,
  "metadata": {
    "colab": {
      "name": "fraud-detection.ipynb",
      "version": "0.3.2",
      "provenance": []
    },
    "kernelspec": {
      "name": "python3",
      "display_name": "Python 3"
    }
  },
  "cells": [
    {
      "cell_type": "markdown",
      "metadata": {
        "id": "LpPma_FF2iWq",
        "colab_type": "text"
      },
      "source": [
        "#Fraud Detection Example"
      ]
    },
    {
      "cell_type": "code",
      "metadata": {
        "id": "CxPMGgUu2XXr",
        "colab_type": "code",
        "colab": {}
      },
      "source": [
        "# Import libraries\n",
        "import numpy as np\n",
        "import sklearn as sk\n",
        "import pandas as pd\n",
        "import matplotlib.pyplot as plt\n",
        "from sklearn.preprocessing import scale\n",
        "from sklearn import linear_model\n",
        "from sklearn.model_selection import train_test_split"
      ],
      "execution_count": 0,
      "outputs": []
    },
    {
      "cell_type": "code",
      "metadata": {
        "id": "S6naQ8fG3cn6",
        "colab_type": "code",
        "colab": {
          "base_uri": "https://localhost:8080/",
          "height": 215
        },
        "outputId": "5cbc6ab1-431f-4121-beac-69c31e345a79"
      },
      "source": [
        "df = pd.read_csv('creditcard.csv', low_memory=False)\n",
        "df = df.sample(frac=1).reset_index(drop=True)\n",
        "df.head()"
      ],
      "execution_count": 3,
      "outputs": [
        {
          "output_type": "execute_result",
          "data": {
            "text/html": [
              "<div>\n",
              "<style scoped>\n",
              "    .dataframe tbody tr th:only-of-type {\n",
              "        vertical-align: middle;\n",
              "    }\n",
              "\n",
              "    .dataframe tbody tr th {\n",
              "        vertical-align: top;\n",
              "    }\n",
              "\n",
              "    .dataframe thead th {\n",
              "        text-align: right;\n",
              "    }\n",
              "</style>\n",
              "<table border=\"1\" class=\"dataframe\">\n",
              "  <thead>\n",
              "    <tr style=\"text-align: right;\">\n",
              "      <th></th>\n",
              "      <th>Time</th>\n",
              "      <th>V1</th>\n",
              "      <th>V2</th>\n",
              "      <th>V3</th>\n",
              "      <th>V4</th>\n",
              "      <th>V5</th>\n",
              "      <th>V6</th>\n",
              "      <th>V7</th>\n",
              "      <th>V8</th>\n",
              "      <th>V9</th>\n",
              "      <th>V10</th>\n",
              "      <th>V11</th>\n",
              "      <th>V12</th>\n",
              "      <th>V13</th>\n",
              "      <th>V14</th>\n",
              "      <th>V15</th>\n",
              "      <th>V16</th>\n",
              "      <th>V17</th>\n",
              "      <th>V18</th>\n",
              "      <th>V19</th>\n",
              "      <th>V20</th>\n",
              "      <th>V21</th>\n",
              "      <th>V22</th>\n",
              "      <th>V23</th>\n",
              "      <th>V24</th>\n",
              "      <th>V25</th>\n",
              "      <th>V26</th>\n",
              "      <th>V27</th>\n",
              "      <th>V28</th>\n",
              "      <th>Amount</th>\n",
              "      <th>Class</th>\n",
              "    </tr>\n",
              "  </thead>\n",
              "  <tbody>\n",
              "    <tr>\n",
              "      <th>0</th>\n",
              "      <td>129911.0</td>\n",
              "      <td>2.042662</td>\n",
              "      <td>-0.070113</td>\n",
              "      <td>-1.857773</td>\n",
              "      <td>0.244234</td>\n",
              "      <td>0.455966</td>\n",
              "      <td>-0.349493</td>\n",
              "      <td>-0.088198</td>\n",
              "      <td>0.081461</td>\n",
              "      <td>0.588377</td>\n",
              "      <td>-0.152530</td>\n",
              "      <td>0.531666</td>\n",
              "      <td>-0.421078</td>\n",
              "      <td>-2.181529</td>\n",
              "      <td>-0.220433</td>\n",
              "      <td>-0.182990</td>\n",
              "      <td>0.646884</td>\n",
              "      <td>0.294626</td>\n",
              "      <td>0.469487</td>\n",
              "      <td>0.400265</td>\n",
              "      <td>-0.282465</td>\n",
              "      <td>-0.352370</td>\n",
              "      <td>-1.045869</td>\n",
              "      <td>0.322746</td>\n",
              "      <td>0.065735</td>\n",
              "      <td>-0.337478</td>\n",
              "      <td>0.185609</td>\n",
              "      <td>-0.078234</td>\n",
              "      <td>-0.048991</td>\n",
              "      <td>1.98</td>\n",
              "      <td>0</td>\n",
              "    </tr>\n",
              "    <tr>\n",
              "      <th>1</th>\n",
              "      <td>56784.0</td>\n",
              "      <td>1.105587</td>\n",
              "      <td>0.175916</td>\n",
              "      <td>0.428929</td>\n",
              "      <td>1.277038</td>\n",
              "      <td>-0.038610</td>\n",
              "      <td>0.165003</td>\n",
              "      <td>0.020626</td>\n",
              "      <td>0.093183</td>\n",
              "      <td>-0.067516</td>\n",
              "      <td>0.021090</td>\n",
              "      <td>1.269993</td>\n",
              "      <td>1.561485</td>\n",
              "      <td>0.432713</td>\n",
              "      <td>0.135522</td>\n",
              "      <td>-0.864022</td>\n",
              "      <td>-0.555043</td>\n",
              "      <td>-0.024880</td>\n",
              "      <td>-0.559395</td>\n",
              "      <td>-0.084267</td>\n",
              "      <td>-0.119777</td>\n",
              "      <td>-0.037554</td>\n",
              "      <td>0.103853</td>\n",
              "      <td>-0.090249</td>\n",
              "      <td>0.056843</td>\n",
              "      <td>0.652146</td>\n",
              "      <td>-0.333195</td>\n",
              "      <td>0.038623</td>\n",
              "      <td>0.008751</td>\n",
              "      <td>17.17</td>\n",
              "      <td>0</td>\n",
              "    </tr>\n",
              "    <tr>\n",
              "      <th>2</th>\n",
              "      <td>69440.0</td>\n",
              "      <td>1.153212</td>\n",
              "      <td>-0.094069</td>\n",
              "      <td>0.370299</td>\n",
              "      <td>0.609667</td>\n",
              "      <td>-0.207152</td>\n",
              "      <td>0.261253</td>\n",
              "      <td>-0.237307</td>\n",
              "      <td>0.201155</td>\n",
              "      <td>0.308518</td>\n",
              "      <td>-0.055361</td>\n",
              "      <td>0.866351</td>\n",
              "      <td>0.837049</td>\n",
              "      <td>-0.652903</td>\n",
              "      <td>0.251066</td>\n",
              "      <td>-0.571694</td>\n",
              "      <td>-0.255116</td>\n",
              "      <td>-0.026859</td>\n",
              "      <td>-0.488580</td>\n",
              "      <td>0.274694</td>\n",
              "      <td>-0.150060</td>\n",
              "      <td>-0.176037</td>\n",
              "      <td>-0.370057</td>\n",
              "      <td>-0.010535</td>\n",
              "      <td>-0.278807</td>\n",
              "      <td>0.372802</td>\n",
              "      <td>0.302421</td>\n",
              "      <td>-0.015368</td>\n",
              "      <td>-0.003775</td>\n",
              "      <td>14.86</td>\n",
              "      <td>0</td>\n",
              "    </tr>\n",
              "    <tr>\n",
              "      <th>3</th>\n",
              "      <td>93521.0</td>\n",
              "      <td>-0.194827</td>\n",
              "      <td>-0.212023</td>\n",
              "      <td>2.125750</td>\n",
              "      <td>-1.922349</td>\n",
              "      <td>-0.764845</td>\n",
              "      <td>-0.249667</td>\n",
              "      <td>-0.090746</td>\n",
              "      <td>-0.439896</td>\n",
              "      <td>-1.024847</td>\n",
              "      <td>0.580612</td>\n",
              "      <td>0.197169</td>\n",
              "      <td>-3.272540</td>\n",
              "      <td>3.140520</td>\n",
              "      <td>0.412822</td>\n",
              "      <td>-0.614647</td>\n",
              "      <td>-1.045409</td>\n",
              "      <td>1.387718</td>\n",
              "      <td>0.295937</td>\n",
              "      <td>0.385767</td>\n",
              "      <td>-0.052729</td>\n",
              "      <td>-0.313775</td>\n",
              "      <td>0.012911</td>\n",
              "      <td>-0.340263</td>\n",
              "      <td>-0.050482</td>\n",
              "      <td>0.384505</td>\n",
              "      <td>0.020061</td>\n",
              "      <td>-0.106493</td>\n",
              "      <td>-0.163113</td>\n",
              "      <td>29.00</td>\n",
              "      <td>0</td>\n",
              "    </tr>\n",
              "    <tr>\n",
              "      <th>4</th>\n",
              "      <td>154172.0</td>\n",
              "      <td>0.439804</td>\n",
              "      <td>1.343752</td>\n",
              "      <td>-1.364688</td>\n",
              "      <td>1.309440</td>\n",
              "      <td>0.340152</td>\n",
              "      <td>-0.412269</td>\n",
              "      <td>0.200711</td>\n",
              "      <td>0.159247</td>\n",
              "      <td>-0.200281</td>\n",
              "      <td>-0.327044</td>\n",
              "      <td>-0.439751</td>\n",
              "      <td>0.393308</td>\n",
              "      <td>0.895665</td>\n",
              "      <td>-0.733168</td>\n",
              "      <td>1.385580</td>\n",
              "      <td>-0.896994</td>\n",
              "      <td>1.620735</td>\n",
              "      <td>0.266917</td>\n",
              "      <td>2.472881</td>\n",
              "      <td>0.049756</td>\n",
              "      <td>-0.106938</td>\n",
              "      <td>-0.260220</td>\n",
              "      <td>0.356932</td>\n",
              "      <td>0.504631</td>\n",
              "      <td>-1.333203</td>\n",
              "      <td>-0.386510</td>\n",
              "      <td>-0.186872</td>\n",
              "      <td>0.049028</td>\n",
              "      <td>9.99</td>\n",
              "      <td>0</td>\n",
              "    </tr>\n",
              "  </tbody>\n",
              "</table>\n",
              "</div>"
            ],
            "text/plain": [
              "       Time        V1        V2        V3  ...       V27       V28  Amount  Class\n",
              "0  129911.0  2.042662 -0.070113 -1.857773  ... -0.078234 -0.048991    1.98      0\n",
              "1   56784.0  1.105587  0.175916  0.428929  ...  0.038623  0.008751   17.17      0\n",
              "2   69440.0  1.153212 -0.094069  0.370299  ... -0.015368 -0.003775   14.86      0\n",
              "3   93521.0 -0.194827 -0.212023  2.125750  ... -0.106493 -0.163113   29.00      0\n",
              "4  154172.0  0.439804  1.343752 -1.364688  ... -0.186872  0.049028    9.99      0\n",
              "\n",
              "[5 rows x 31 columns]"
            ]
          },
          "metadata": {
            "tags": []
          },
          "execution_count": 3
        }
      ]
    },
    {
      "cell_type": "code",
      "metadata": {
        "id": "njRqcG2857LF",
        "colab_type": "code",
        "colab": {
          "base_uri": "https://localhost:8080/",
          "height": 50
        },
        "outputId": "a05b99ae-ae2b-44d5-8893-781e2ec37b43"
      },
      "source": [
        "frauds = df.loc[df['Class'] == 1]\n",
        "non_frauds = df.loc[df['Class'] == 0]\n",
        "print(f'Total os frauds: {len(frauds)}')\n",
        "print(f'Total os non frauds: {len(non_frauds)}')"
      ],
      "execution_count": 19,
      "outputs": [
        {
          "output_type": "stream",
          "text": [
            "Total os frauds: 492\n",
            "Total os non frauds: 284315\n"
          ],
          "name": "stdout"
        }
      ]
    },
    {
      "cell_type": "code",
      "metadata": {
        "id": "Jw_-RkOg6VgJ",
        "colab_type": "code",
        "colab": {
          "base_uri": "https://localhost:8080/",
          "height": 269
        },
        "outputId": "72757907-a4ae-4cd5-b765-990e861aa642"
      },
      "source": [
        "label = ['Normal', 'Fraud']\n",
        "ntr = [len(non_frauds), len(frauds)]\n",
        "index = np.arange(len(label))\n",
        "plt.bar(index, ntr)\n",
        "plt.xticks(index, label, fontsize=10)\n",
        "plt.show()"
      ],
      "execution_count": 43,
      "outputs": [
        {
          "output_type": "display_data",
          "data": {
            "image/png": "[encoded data removed]",
            "text/plain": [
              "<Figure size 432x288 with 1 Axes>"
            ]
          },
          "metadata": {
            "tags": []
          }
        }
      ]
    },
    {
      "cell_type": "code",
      "metadata": {
        "id": "Uu_uFF5t94Cy",
        "colab_type": "code",
        "colab": {}
      },
      "source": [
        "# Spliting the data to train and test\n",
        "X = df.iloc[:, :-1]\n",
        "y = df['Class']\n",
        "\n",
        "X_train, X_test, y_train, y_test = train_test_split(X, y, test_size=0.25)"
      ],
      "execution_count": 0,
      "outputs": []
    },
    {
      "cell_type": "code",
      "metadata": {
        "id": "ubuSIF90-PGZ",
        "colab_type": "code",
        "colab": {
          "base_uri": "https://localhost:8080/",
          "height": 87
        },
        "outputId": "afbc4ee4-3404-468b-d200-c8f039ba6403"
      },
      "source": [
        "model = linear_model.LogisticRegression(C=1e5)\n",
        "model.fit(X_train, y_train)\n",
        "print('Score:', model.score(X_test, y_test))"
      ],
      "execution_count": 58,
      "outputs": [
        {
          "output_type": "stream",
          "text": [
            "/usr/local/lib/python3.6/dist-packages/sklearn/linear_model/logistic.py:432: FutureWarning: Default solver will be changed to 'lbfgs' in 0.22. Specify a solver to silence this warning.\n",
            "  FutureWarning)\n"
          ],
          "name": "stderr"
        },
        {
          "output_type": "stream",
          "text": [
            "Score: 0.9988483469565461\n"
          ],
          "name": "stdout"
        }
      ]
    },
    {
      "cell_type": "code",
      "metadata": {
        "id": "QBCXHh6k-stK",
        "colab_type": "code",
        "colab": {}
      },
      "source": [
        "y_predicted = np.array(logistic.predict(X_test))\n",
        "predicted_frauds = y_predicted[y_predicted == 1]\n",
        "predicted_non_frauds = y_predicted[y_predicted == 0]"
      ],
      "execution_count": 0,
      "outputs": []
    },
    {
      "cell_type": "code",
      "metadata": {
        "id": "btilliSeJyf0",
        "colab_type": "code",
        "colab": {
          "base_uri": "https://localhost:8080/",
          "height": 281
        },
        "outputId": "322adde9-f0f3-4657-b4ce-378c35d29df6"
      },
      "source": [
        "label = ['Normal', 'Fraud']\n",
        "ntr = [len(predicted_non_frauds), len(predicted_frauds)]\n",
        "index = np.arange(len(label))\n",
        "plt.bar(index, ntr)\n",
        "plt.title('Predicted frauds and normals')\n",
        "plt.xticks(index, label, fontsize=10)\n",
        "plt.show()"
      ],
      "execution_count": 52,
      "outputs": [
        {
          "output_type": "display_data",
          "data": {
            "image/png": "[encoded data removed]",
            "text/plain": [
              "<Figure size 432x288 with 1 Axes>"
            ]
          },
          "metadata": {
            "tags": []
          }
        }
      ]
    }
  ]
}